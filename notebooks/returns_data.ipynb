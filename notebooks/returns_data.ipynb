{
 "cells": [
  {
   "cell_type": "code",
   "execution_count": null,
   "id": "57efd471-f522-4eb6-81dd-6029ea941e7d",
   "metadata": {},
   "outputs": [],
   "source": [
    "from dafin import ReturnsData, Performance\n",
    "\n",
    "%matplotlib inline"
   ]
  },
  {
   "cell_type": "markdown",
   "id": "2b3b85f7",
   "metadata": {},
   "source": [
    "## Parameters"
   ]
  },
  {
   "cell_type": "code",
   "execution_count": null,
   "id": "a2e438ec-6118-4681-b7e8-6ad6ba1c0335",
   "metadata": {},
   "outputs": [],
   "source": [
    "# tickers\n",
    "assets = ['SPY', 'BND', 'GLD']\n",
    "\n",
    "# date\n",
    "date_start = \"2010-01-01\"\n",
    "date_end = \"2019-12-31\""
   ]
  },
  {
   "cell_type": "code",
   "execution_count": null,
   "id": "24e12b0f-3759-45b0-bb00-31bbfcffffa1",
   "metadata": {},
   "outputs": [],
   "source": [
    "# retrieve asset returns\n",
    "returns_data = ReturnsData(assets = assets)\n",
    "returns = returns_data.get_returns(date_start = date_start, date_end = date_end)\n",
    "\n",
    "\n",
    "# calculate performance metrics\n",
    "performance = Performance(returns_assets=returns)"
   ]
  },
  {
   "cell_type": "markdown",
   "id": "cf670a56-9148-477d-a374-da6471bb17fe",
   "metadata": {},
   "source": [
    "## Prices and Returns Data"
   ]
  },
  {
   "cell_type": "code",
   "execution_count": null,
   "id": "06e19fca",
   "metadata": {},
   "outputs": [],
   "source": [
    "## show the prices\n",
    "returns_data.prices.head(3)"
   ]
  },
  {
   "cell_type": "code",
   "execution_count": null,
   "id": "bffb573a-221d-48e4-93a2-2c6b12dbc63e",
   "metadata": {},
   "outputs": [],
   "source": [
    "## show the returns\n",
    "returns.head(3)"
   ]
  },
  {
   "cell_type": "markdown",
   "id": "60187ec4",
   "metadata": {},
   "source": [
    "## Performance"
   ]
  },
  {
   "cell_type": "code",
   "execution_count": null,
   "id": "493eeece",
   "metadata": {},
   "outputs": [],
   "source": [
    "# show the summary of all available metrics\n",
    "performance.summary"
   ]
  },
  {
   "cell_type": "markdown",
   "id": "d767f5c5",
   "metadata": {},
   "source": [
    "## Cumulative Returns"
   ]
  },
  {
   "cell_type": "code",
   "execution_count": null,
   "id": "c259b05d",
   "metadata": {},
   "outputs": [],
   "source": [
    "performance.returns_cum.head(3)"
   ]
  },
  {
   "cell_type": "code",
   "execution_count": null,
   "id": "251f29b5",
   "metadata": {},
   "outputs": [],
   "source": [
    "fig, ax = performance.plot_cum_returns()"
   ]
  },
  {
   "cell_type": "markdown",
   "id": "be1de4a7-4a86-4a2b-bee8-62cca6b1b319",
   "metadata": {},
   "source": [
    "## Total Returns Data"
   ]
  },
  {
   "cell_type": "code",
   "execution_count": null,
   "id": "0d3547ca-677c-4d33-9531-92958600d655",
   "metadata": {},
   "outputs": [],
   "source": [
    "performance.returns_total.head(3)"
   ]
  },
  {
   "cell_type": "code",
   "execution_count": null,
   "id": "6e96c3db-a401-4586-9c5f-c162b498be64",
   "metadata": {},
   "outputs": [],
   "source": [
    "fig, ax = performance.plot_total_returns()"
   ]
  },
  {
   "cell_type": "markdown",
   "id": "fed564de-eba8-487c-aec1-6e68df068835",
   "metadata": {},
   "source": [
    "## Distributions of Returns"
   ]
  },
  {
   "cell_type": "code",
   "execution_count": null,
   "id": "b1b8364f-8380-49c2-9661-8759199c99c1",
   "metadata": {},
   "outputs": [],
   "source": [
    "## Dist of Returns\n",
    "fig, ax = performance.plot_dist_returns()"
   ]
  },
  {
   "cell_type": "markdown",
   "id": "04ce061b-f253-4e43-a34a-8f9521b31dc7",
   "metadata": {},
   "source": [
    "## Relationships of Assets"
   ]
  },
  {
   "cell_type": "code",
   "execution_count": null,
   "id": "7885cff5-09d0-4561-891d-dd8273db19fe",
   "metadata": {},
   "outputs": [],
   "source": [
    "# Cov Data\n",
    "performance.cov"
   ]
  },
  {
   "cell_type": "code",
   "execution_count": null,
   "id": "06c93212-aa78-49fb-8e17-d3a3db4ed1fd",
   "metadata": {},
   "outputs": [],
   "source": [
    "# Cov Plot\n",
    "fig, ax = performance.plot_cov()"
   ]
  },
  {
   "cell_type": "code",
   "execution_count": null,
   "id": "c0c67c0b-532a-4ec7-b9e3-27ed1bbfa29b",
   "metadata": {},
   "outputs": [],
   "source": [
    "# Corr Data\n",
    "performance.corr"
   ]
  },
  {
   "cell_type": "code",
   "execution_count": null,
   "id": "84214e87-18a2-435f-b69d-b280dd5f3cf4",
   "metadata": {},
   "outputs": [],
   "source": [
    "# Corr\n",
    "fig, ax = performance.plot_corr()"
   ]
  },
  {
   "cell_type": "markdown",
   "id": "025939f2-d537-413d-902f-1a2e659b9cff",
   "metadata": {},
   "source": [
    "## Expected Returns vs. Volatility"
   ]
  },
  {
   "cell_type": "code",
   "execution_count": null,
   "id": "23bbb04c-db15-440f-ac60-5dea7eadde16",
   "metadata": {},
   "outputs": [],
   "source": [
    "# Expected Retuens - SD Data\n",
    "performance.mean_sd"
   ]
  },
  {
   "cell_type": "code",
   "execution_count": null,
   "id": "1c57179d-8089-484c-be3f-c89cd59efd92",
   "metadata": {},
   "outputs": [],
   "source": [
    "# Expected Retuens - STD Plot\n",
    "fig, ax = performance.plot_mean_sd()"
   ]
  }
 ],
 "metadata": {
  "kernelspec": {
   "display_name": "Python 3.9.13 ('venv': venv)",
   "language": "python",
   "name": "python3"
  },
  "language_info": {
   "codemirror_mode": {
    "name": "ipython",
    "version": 3
   },
   "file_extension": ".py",
   "mimetype": "text/x-python",
   "name": "python",
   "nbconvert_exporter": "python",
   "pygments_lexer": "ipython3",
   "version": "3.10.6"
  },
  "vscode": {
   "interpreter": {
    "hash": "c9dee3bf12478639cbc6ef00c4ef8fed040981754dcf04b4cf3a4615a6efc91a"
   }
  }
 },
 "nbformat": 4,
 "nbformat_minor": 5
}
