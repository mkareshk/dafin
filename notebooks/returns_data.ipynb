{
 "cells": [
  {
   "cell_type": "code",
   "execution_count": null,
   "id": "57efd471-f522-4eb6-81dd-6029ea941e7d",
   "metadata": {},
   "outputs": [],
   "source": [
    "from dafin import Returns\n",
    "\n",
    "%matplotlib inline"
   ]
  },
  {
   "cell_type": "code",
   "execution_count": null,
   "id": "a2e438ec-6118-4681-b7e8-6ad6ba1c0335",
   "metadata": {},
   "outputs": [],
   "source": [
    "## Parameters\n",
    "\n",
    "# tickers\n",
    "asset_list = ['IVV', 'IJR', 'ACWX', 'IEMG', 'REET', 'IYR', 'AGG', 'GLD', 'HYG']\n",
    "asset_list = ['BND', 'SPY', 'GLD']\n",
    "# date\n",
    "start_date = \"2015-01-01\"\n",
    "end_date   = \"2020-12-31\""
   ]
  },
  {
   "cell_type": "code",
   "execution_count": null,
   "id": "24e12b0f-3759-45b0-bb00-31bbfcffffa1",
   "metadata": {},
   "outputs": [],
   "source": [
    "## Create the market instance\n",
    "returns_data = Returns(\n",
    "    asset_list = asset_list,\n",
    "    date_start = start_date,\n",
    "    date_end = end_date,\n",
    ")"
   ]
  },
  {
   "cell_type": "markdown",
   "id": "9b93bc5e-c50e-4d2a-979b-7a3775bbddc1",
   "metadata": {},
   "source": [
    "## Price Data"
   ]
  },
  {
   "cell_type": "code",
   "execution_count": null,
   "id": "d1d9ac98-1c40-4021-b533-d9427f7be9fe",
   "metadata": {},
   "outputs": [],
   "source": [
    "## Print the Price Data\n",
    "returns_data.prices.head(3)"
   ]
  },
  {
   "cell_type": "code",
   "execution_count": null,
   "id": "abed090d-6541-4265-bc91-c262edefbabd",
   "metadata": {},
   "outputs": [],
   "source": [
    "## Plot the Price Data\n",
    "fig, ax = returns_data.plot_prices()"
   ]
  },
  {
   "cell_type": "markdown",
   "id": "cf670a56-9148-477d-a374-da6471bb17fe",
   "metadata": {},
   "source": [
    "## Returns Data"
   ]
  },
  {
   "cell_type": "code",
   "execution_count": null,
   "id": "bffb573a-221d-48e4-93a2-2c6b12dbc63e",
   "metadata": {},
   "outputs": [],
   "source": [
    "## Print the Returns Data\n",
    "returns_data.returns.head(3)"
   ]
  },
  {
   "cell_type": "code",
   "execution_count": null,
   "id": "0182730c-d024-4468-946e-972f672f95be",
   "metadata": {},
   "outputs": [],
   "source": [
    "## Plot the Returns Data\n",
    "fig, ax = returns_data.plot_returns()"
   ]
  },
  {
   "cell_type": "markdown",
   "id": "01aa12c5-2f63-43f3-8b99-6e176128cc7c",
   "metadata": {},
   "source": [
    "## Cumulative Returns Data"
   ]
  },
  {
   "cell_type": "code",
   "execution_count": null,
   "id": "1eea20d2-1ccb-4d86-b9e9-1ddf99c9a5dc",
   "metadata": {},
   "outputs": [],
   "source": [
    "## Print the Returns Data\n",
    "returns_data.cum_returns.head(3)"
   ]
  },
  {
   "cell_type": "code",
   "execution_count": null,
   "id": "6509ebe0-0b7d-498c-9d27-f2b3fd8d64c4",
   "metadata": {},
   "outputs": [],
   "source": [
    "## Plot the Cum Returns Data\n",
    "fig, ax = returns_data.plot_cum_returns()"
   ]
  },
  {
   "cell_type": "markdown",
   "id": "fed564de-eba8-487c-aec1-6e68df068835",
   "metadata": {},
   "source": [
    "## Distributions of Returns"
   ]
  },
  {
   "cell_type": "code",
   "execution_count": null,
   "id": "e403d233-e6ab-4ad9-8b1e-d246fe8afa86",
   "metadata": {},
   "outputs": [],
   "source": [
    "# Statistics\n",
    "returns_data.returns.describe()"
   ]
  },
  {
   "cell_type": "code",
   "execution_count": null,
   "id": "b1b8364f-8380-49c2-9661-8759199c99c1",
   "metadata": {},
   "outputs": [],
   "source": [
    "## Dist of Returns\n",
    "fig, ax = returns_data.plot_dist_returns()"
   ]
  },
  {
   "cell_type": "markdown",
   "id": "04ce061b-f253-4e43-a34a-8f9521b31dc7",
   "metadata": {},
   "source": [
    "## Relationships of Assets"
   ]
  },
  {
   "cell_type": "code",
   "execution_count": null,
   "id": "7885cff5-09d0-4561-891d-dd8273db19fe",
   "metadata": {},
   "outputs": [],
   "source": [
    "# Cov Data\n",
    "returns_data.returns.cov()"
   ]
  },
  {
   "cell_type": "code",
   "execution_count": null,
   "id": "06c93212-aa78-49fb-8e17-d3a3db4ed1fd",
   "metadata": {},
   "outputs": [],
   "source": [
    "# Cov Plot\n",
    "fig, ax = returns_data.plot_cov()"
   ]
  },
  {
   "cell_type": "code",
   "execution_count": null,
   "id": "c0c67c0b-532a-4ec7-b9e3-27ed1bbfa29b",
   "metadata": {},
   "outputs": [],
   "source": [
    "# Corr Data\n",
    "returns_data.returns.corr()"
   ]
  },
  {
   "cell_type": "code",
   "execution_count": null,
   "id": "84214e87-18a2-435f-b69d-b280dd5f3cf4",
   "metadata": {},
   "outputs": [],
   "source": [
    "# Corr\n",
    "fig, ax = returns_data.plot_corr()"
   ]
  },
  {
   "cell_type": "markdown",
   "id": "025939f2-d537-413d-902f-1a2e659b9cff",
   "metadata": {},
   "source": [
    "## Expected Returns vs. Volatility"
   ]
  },
  {
   "cell_type": "code",
   "execution_count": null,
   "id": "23bbb04c-db15-440f-ac60-5dea7eadde16",
   "metadata": {},
   "outputs": [],
   "source": [
    "# Expected Retuens - SD Data\n",
    "returns_data.mean_sd"
   ]
  },
  {
   "cell_type": "code",
   "execution_count": null,
   "id": "224f2740-29f5-4605-b758-a4245c71e083",
   "metadata": {},
   "outputs": [],
   "source": [
    "# Expected Retuens - SD (Annualized)\n",
    "returns_data.annualized_mean_sd"
   ]
  },
  {
   "cell_type": "code",
   "execution_count": null,
   "id": "1c57179d-8089-484c-be3f-c89cd59efd92",
   "metadata": {},
   "outputs": [],
   "source": [
    "# Expected Retuens - STD Plot\n",
    "fig, ax = returns_data.plot_mean_sd(annualized=True)"
   ]
  }
 ],
 "metadata": {
  "kernelspec": {
   "display_name": "Python 3 (ipykernel)",
   "language": "python",
   "name": "python3"
  },
  "language_info": {
   "codemirror_mode": {
    "name": "ipython",
    "version": 3
   },
   "file_extension": ".py",
   "mimetype": "text/x-python",
   "name": "python",
   "nbconvert_exporter": "python",
   "pygments_lexer": "ipython3",
   "version": "3.8.10"
  }
 },
 "nbformat": 4,
 "nbformat_minor": 5
}
